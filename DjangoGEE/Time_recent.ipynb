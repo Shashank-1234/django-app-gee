{
 "cells": [
  {
   "cell_type": "code",
   "execution_count": 4,
   "id": "191f62ce-593e-4987-a5e4-5ded72821abd",
   "metadata": {},
   "outputs": [
    {
     "name": "stdout",
     "output_type": "stream",
     "text": [
      "{'COPERNICUS/S2_HARMONIZED': '2024-06-02T18:11:12Z'}\n"
     ]
    }
   ],
   "source": [
    "import ee\n",
    "import requests\n",
    "\n",
    "ee.Initialize()\n",
    "\n",
    "def getSTAC(ic: ee.ImageCollection) -> dict:\n",
    "    \"\"\"Gets the STAC of the image.\"\"\" \n",
    "\n",
    "    # extract the Asset id from the image collection\n",
    "    assetId = ic.get(\"system:id\").getInfo()\n",
    "\n",
    "    # search for the project in the GEE catalog and extract the project catalog URL\n",
    "    project = assetId.split(\"/\")[0]\n",
    "    catalog = \"https://earthengine-stac.storage.googleapis.com/catalog/catalog.json\"\n",
    "    links = requests.get(catalog).json()[\"links\"]\n",
    "    project_catalog = next((i[\"href\"] for i in links if i.get(\"title\") == project), None)\n",
    "    if project_catalog is None:\n",
    "        raise ValueError(f\"Project {project} not found in the catalog\")\n",
    "\n",
    "    # search for the collection in the project catalog and extract the collection STAC URL\n",
    "    collection = \"_\".join(assetId.split(\"/\"))\n",
    "    links = requests.get(project_catalog).json()[\"links\"]\n",
    "    collection_stac = next((i[\"href\"] for i in links if i.get(\"title\") == collection), None)\n",
    "    if collection_stac is None:\n",
    "        raise ValueError(f\"Collection {collection} not found in the {project} catalog\")\n",
    "\n",
    "    return requests.get(collection_stac).json()\n",
    "\n",
    "def get_last_date(collection): \n",
    "    ic = ee.ImageCollection(collection)\n",
    "    stac = getSTAC(ic)\n",
    "    return stac[\"extent\"][\"temporal\"][\"interval\"][0][1]\n",
    "\n",
    "list_collection = [\n",
    "    \"COPERNICUS/S2_HARMONIZED\",\n",
    "]\n",
    "\n",
    "date_dict = {c: get_last_date(c) for c in list_collection}\n",
    "print(date_dict)\n"
   ]
  },
  {
   "cell_type": "code",
   "execution_count": null,
   "id": "4afd8a22-0902-40df-94f8-4f9fc76d354c",
   "metadata": {},
   "outputs": [],
   "source": []
  }
 ],
 "metadata": {
  "kernelspec": {
   "display_name": "Python 3 (ipykernel)",
   "language": "python",
   "name": "python3"
  },
  "language_info": {
   "codemirror_mode": {
    "name": "ipython",
    "version": 3
   },
   "file_extension": ".py",
   "mimetype": "text/x-python",
   "name": "python",
   "nbconvert_exporter": "python",
   "pygments_lexer": "ipython3",
   "version": "3.12.1"
  }
 },
 "nbformat": 4,
 "nbformat_minor": 5
}
